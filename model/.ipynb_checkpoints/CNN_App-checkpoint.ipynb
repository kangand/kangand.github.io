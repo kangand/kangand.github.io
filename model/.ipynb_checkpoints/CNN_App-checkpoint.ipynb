{
 "cells": [
  {
   "cell_type": "markdown",
   "metadata": {
    "colab_type": "text",
    "id": "view-in-github"
   },
   "source": [
    "<a href=\"https://colab.research.google.com/github/kangand/kangand.github.io/blob/master/CNN_App.ipynb\" target=\"_parent\"><img src=\"https://colab.research.google.com/assets/colab-badge.svg\" alt=\"Open In Colab\"/></a>"
   ]
  },
  {
   "cell_type": "markdown",
   "metadata": {
    "colab_type": "text",
    "id": "S363s3_Pqgnv"
   },
   "source": [
    "For hosting on website."
   ]
  },
  {
   "cell_type": "code",
   "execution_count": 1,
   "metadata": {
    "colab": {},
    "colab_type": "code",
    "id": "z3oPkYbZmxcD"
   },
   "outputs": [],
   "source": [
    "from fastai.vision.learner import load_learner\n",
    "from fastai.vision.models import squeezenet1_0"
   ]
  },
  {
   "cell_type": "code",
   "execution_count": null,
   "metadata": {
    "colab": {},
    "colab_type": "code",
    "id": "AZvPqFAgqt0g"
   },
   "outputs": [],
   "source": [
    "# img should be the file uploaded by the user\n",
    "\n",
    "img"
   ]
  },
  {
   "cell_type": "code",
   "execution_count": 5,
   "metadata": {
    "colab": {},
    "colab_type": "code",
    "id": "qumjFbxkqNVo"
   },
   "outputs": [],
   "source": [
    "learner = load_learner('','squeezenet_model')\n",
    "#pred = learner.predict(img)"
   ]
  },
  {
   "cell_type": "code",
   "execution_count": 6,
   "metadata": {
    "colab": {
     "base_uri": "https://localhost:8080/",
     "height": 34
    },
    "colab_type": "code",
    "id": "30Zx_-wWBN6d",
    "outputId": "edcb89fd-3713-40e1-891b-1533d924f8d6"
   },
   "outputs": [
    {
     "name": "stdout",
     "output_type": "stream",
     "text": [
      "Requirement already satisfied: werkzeug in /usr/local/lib/python3.6/dist-packages (1.0.1)\n"
     ]
    }
   ],
   "source": [
    "pip install werkzeug"
   ]
  },
  {
   "cell_type": "code",
   "execution_count": 8,
   "metadata": {
    "colab": {
     "base_uri": "https://localhost:8080/",
     "height": 34
    },
    "colab_type": "code",
    "id": "JsvjM8i7qxGl",
    "outputId": "edc9668d-9b4d-490d-bb49-4fbc9ebf9acc"
   },
   "outputs": [
    {
     "name": "stderr",
     "output_type": "stream",
     "text": [
      "Using TensorFlow backend.\n"
     ]
    }
   ],
   "source": [
    "# prediction needs to be exported and displayed as html\n",
    "import os\n",
    "import numpy as np\n",
    "import tensorflow as tf\n",
    "from keras.preprocessing.image import img_to_array, load_img\n",
    "from flask import Flask, redirect, url_for, request, render_template"
   ]
  },
  {
   "cell_type": "code",
   "execution_count": 11,
   "metadata": {
    "colab": {
     "base_uri": "https://localhost:8080/",
     "height": 231
    },
    "colab_type": "code",
    "id": "BK12Y2au92DH",
    "outputId": "5de35763-8b2a-4082-b5dd-d2ceb242a5f7"
   },
   "outputs": [
    {
     "ename": "AttributeError",
     "evalue": "ignored",
     "output_type": "error",
     "traceback": [
      "\u001b[0;31m---------------------------------------------------------------------------\u001b[0m",
      "\u001b[0;31mAttributeError\u001b[0m                            Traceback (most recent call last)",
      "\u001b[0;32m<ipython-input-11-8ca1e53e91f2>\u001b[0m in \u001b[0;36m<module>\u001b[0;34m()\u001b[0m\n\u001b[1;32m      1\u001b[0m \u001b[0;31m# Initialize the app\u001b[0m\u001b[0;34m\u001b[0m\u001b[0;34m\u001b[0m\u001b[0;34m\u001b[0m\u001b[0m\n\u001b[1;32m      2\u001b[0m \u001b[0mapp\u001b[0m \u001b[0;34m=\u001b[0m \u001b[0mFlask\u001b[0m\u001b[0;34m(\u001b[0m\u001b[0m__name__\u001b[0m\u001b[0;34m)\u001b[0m\u001b[0;34m\u001b[0m\u001b[0;34m\u001b[0m\u001b[0m\n\u001b[0;32m----> 3\u001b[0;31m \u001b[0mgraph\u001b[0m \u001b[0;34m=\u001b[0m \u001b[0mtf\u001b[0m\u001b[0;34m.\u001b[0m\u001b[0mget_default_graph\u001b[0m\u001b[0;34m(\u001b[0m\u001b[0;34m)\u001b[0m\u001b[0;34m\u001b[0m\u001b[0;34m\u001b[0m\u001b[0m\n\u001b[0m\u001b[1;32m      4\u001b[0m \u001b[0;34m\u001b[0m\u001b[0m\n\u001b[1;32m      5\u001b[0m \u001b[0mprint\u001b[0m\u001b[0;34m(\u001b[0m\u001b[0;34m'Successfully loaded model...'\u001b[0m\u001b[0;34m)\u001b[0m\u001b[0;34m\u001b[0m\u001b[0;34m\u001b[0m\u001b[0m\n",
      "\u001b[0;31mAttributeError\u001b[0m: module 'tensorflow' has no attribute 'get_default_graph'"
     ]
    }
   ],
   "source": [
    "# Initialize the app\n",
    "app = Flask(__name__)\n",
    "graph = tf.get_default_graph()\n",
    "\n",
    "print('Successfully loaded model...')\n",
    "\n",
    "def model_predict(img_path):\n",
    "    '''\n",
    "        helper method to process an uploaded image\n",
    "    '''\n",
    "    image = load_img(img_path, target_size=(224, 224))\n",
    "    image = img_to_array(image)\n",
    "    image = image.reshape((1, image.shape[0], image.shape[1], image.shape[2]))\n",
    "    image = preprocess_input(image)\n",
    "\n",
    "    global graph\n",
    "    with graph.as_default():\n",
    "        preds = learner.predict(image)\n",
    "    \n",
    "    return preds\n",
    "\n",
    "@app.route('/', methods=['GET'])\n",
    "def index():\n",
    "    return render_template('index.html')\n",
    "\n",
    "@app.route('/predict', methods=['GET', 'POST'])\n",
    "def upload():\n",
    "    if request.method == 'POST':\n",
    "        # get the file from the HTTP-POST request\n",
    "        f = request.files['file']        \n",
    "        \n",
    "        # save the file to ./uploads\n",
    "        basepath = os.path.dirname(__file__)\n",
    "        file_path = os.path.join(basepath, 'uploads', f.filename)\n",
    "        f.save(file_path)\n",
    "        \n",
    "        # make prediction about this image's class\n",
    "        preds = model_predict(file_path)\n",
    "        \n",
    "        pred_class = decode_predictions(preds, top=10)\n",
    "        result = str(pred_class[0][0][1])\n",
    "        print('[PREDICTED CLASSES]: {}'.format(pred_class))\n",
    "        print('[RESULT]: {}'.format(result))\n",
    "        \n",
    "        return result\n",
    "    \n",
    "    return None\n",
    "\n",
    "\n",
    "if __name__ == '__main__':\n",
    "    app.run(port=5000, debug=True)\n"
   ]
  },
  {
   "cell_type": "code",
   "execution_count": null,
   "metadata": {
    "colab": {},
    "colab_type": "code",
    "id": "YiLAyNOz_gGq"
   },
   "outputs": [],
   "source": [
    "# alternative: export model as json and code everything in javascript"
   ]
  }
 ],
 "metadata": {
  "colab": {
   "authorship_tag": "ABX9TyMQiJuf5LqwgtVHnD2TFaOy",
   "collapsed_sections": [],
   "include_colab_link": true,
   "name": "CNN_App",
   "provenance": []
  },
  "kernelspec": {
   "display_name": "Python 3",
   "language": "python",
   "name": "python3"
  },
  "language_info": {
   "codemirror_mode": {
    "name": "ipython",
    "version": 3
   },
   "file_extension": ".py",
   "mimetype": "text/x-python",
   "name": "python",
   "nbconvert_exporter": "python",
   "pygments_lexer": "ipython3",
   "version": "3.7.3"
  }
 },
 "nbformat": 4,
 "nbformat_minor": 1
}
