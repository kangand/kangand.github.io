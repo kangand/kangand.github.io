{
  "nbformat": 4,
  "nbformat_minor": 0,
  "metadata": {
    "colab": {
      "name": "CNN_App",
      "provenance": [],
      "collapsed_sections": [],
      "authorship_tag": "ABX9TyOZQrAsd1komyyFfyjbSIDr",
      "include_colab_link": true
    },
    "kernelspec": {
      "name": "python3",
      "display_name": "Python 3"
    }
  },
  "cells": [
    {
      "cell_type": "markdown",
      "metadata": {
        "id": "view-in-github",
        "colab_type": "text"
      },
      "source": [
        "<a href=\"https://colab.research.google.com/github/kangand/kangand.github.io/blob/master/model/CNN_App.ipynb\" target=\"_parent\"><img src=\"https://colab.research.google.com/assets/colab-badge.svg\" alt=\"Open In Colab\"/></a>"
      ]
    },
    {
      "cell_type": "markdown",
      "metadata": {
        "id": "S363s3_Pqgnv",
        "colab_type": "text"
      },
      "source": [
        "For hosting on website."
      ]
    },
    {
      "cell_type": "code",
      "metadata": {
        "id": "m1EfKlrTrr_-",
        "colab_type": "code",
        "colab": {}
      },
      "source": [
        "import numpy as np\n",
        "import pandas as pd"
      ],
      "execution_count": 17,
      "outputs": []
    },
    {
      "cell_type": "code",
      "metadata": {
        "id": "z3oPkYbZmxcD",
        "colab_type": "code",
        "colab": {}
      },
      "source": [
        "from fastai.vision.learner import load_learner\n",
        "from fastai.vision.models import squeezenet1_0\n",
        "from fastai.vision.image import open_image"
      ],
      "execution_count": 18,
      "outputs": []
    },
    {
      "cell_type": "code",
      "metadata": {
        "id": "qumjFbxkqNVo",
        "colab_type": "code",
        "colab": {}
      },
      "source": [
        "learner = load_learner('','squeezenet_model')\n",
        "#pred = learner.predict(img)"
      ],
      "execution_count": 21,
      "outputs": []
    },
    {
      "cell_type": "code",
      "metadata": {
        "id": "JsvjM8i7qxGl",
        "colab_type": "code",
        "colab": {}
      },
      "source": [
        "# prediction needs to be exported and displayed as html\n",
        "import os\n",
        "from flask import Flask, redirect, url_for, request, render_template\n",
        "from skimage import io\n",
        "import skimage.transform as st"
      ],
      "execution_count": 43,
      "outputs": []
    },
    {
      "cell_type": "code",
      "metadata": {
        "id": "BK12Y2au92DH",
        "colab_type": "code",
        "colab": {}
      },
      "source": [
        "\n",
        "app = Flask(__name__)\n",
        "\n",
        "@app.route('/')\n",
        "def entry_page():\n",
        "    #Jinja template of the webpage\n",
        "    return render_template('index.html')\n",
        "\n",
        "@app.route('/predict_object/', methods=['GET', 'POST'])\n",
        "def render_message():\n",
        "    try:\n",
        "        #Get image URL as input\n",
        "        image_url = request.form['image_url']\n",
        "        image = io.imread(image_url)\n",
        "        \n",
        "        #Apply same preprocessing used while training CNN model\n",
        "        image_small = st.resize(image, (224,224,3))\n",
        "        \n",
        "        #Call classify function to predict the image class using the loaded CNN model\n",
        "        pred = learner.predict(image_small)\n",
        "        print(pred[0])\n",
        "        \n",
        "        #Store model prediction results to pass to the web page\n",
        "        message = \"Model prediction: {}\".format(pred[0])\n",
        "        print('Python module executed successfully')\n",
        "        \n",
        "    except Exception as e:\n",
        "        #Store error to pass to the web page\n",
        "        message = \"Error encountered. Try another image. ErrorClass: {}, Argument: {} and Traceback details are: {}\".format(e.__class__,e.args,e.__doc__)\n",
        "        \n",
        "    #Return the model results to the web page\n",
        "    return render_template('index.html',\n",
        "                            message=message,\n",
        "                            image_url=image_url)\n",
        "    \n",
        "app.run(debug=True)"
      ],
      "execution_count": null,
      "outputs": []
    },
    {
      "cell_type": "code",
      "metadata": {
        "id": "YiLAyNOz_gGq",
        "colab_type": "code",
        "colab": {
          "base_uri": "https://localhost:8080/",
          "height": 35
        },
        "outputId": "e1c090aa-ff56-4bf9-f41c-47b623aafdc2"
      },
      "source": [
        "import skimage\n",
        "skimage.__version__"
      ],
      "execution_count": 46,
      "outputs": [
        {
          "output_type": "execute_result",
          "data": {
            "application/vnd.google.colaboratory.intrinsic": {
              "type": "string"
            },
            "text/plain": [
              "'0.16.2'"
            ]
          },
          "metadata": {
            "tags": []
          },
          "execution_count": 46
        }
      ]
    },
    {
      "cell_type": "code",
      "metadata": {
        "id": "k9TItjXQXGt7",
        "colab_type": "code",
        "colab": {}
      },
      "source": [
        ""
      ],
      "execution_count": null,
      "outputs": []
    }
  ]
}