{
  "nbformat": 4,
  "nbformat_minor": 0,
  "metadata": {
    "colab": {
      "name": "CNN_App",
      "provenance": [],
      "collapsed_sections": [],
      "authorship_tag": "ABX9TyNyiwdFxsGjciHlzX7vZQcT",
      "include_colab_link": true
    },
    "kernelspec": {
      "name": "python3",
      "display_name": "Python 3"
    }
  },
  "cells": [
    {
      "cell_type": "markdown",
      "metadata": {
        "id": "view-in-github",
        "colab_type": "text"
      },
      "source": [
        "<a href=\"https://colab.research.google.com/github/kangand/kangand.github.io/blob/master/model/CNN_App.ipynb\" target=\"_parent\"><img src=\"https://colab.research.google.com/assets/colab-badge.svg\" alt=\"Open In Colab\"/></a>"
      ]
    },
    {
      "cell_type": "markdown",
      "metadata": {
        "id": "S363s3_Pqgnv",
        "colab_type": "text"
      },
      "source": [
        "For hosting on website."
      ]
    },
    {
      "cell_type": "code",
      "metadata": {
        "id": "m1EfKlrTrr_-",
        "colab_type": "code",
        "colab": {}
      },
      "source": [
        "import numpy as np\n",
        "import pandas as pd"
      ],
      "execution_count": 17,
      "outputs": []
    },
    {
      "cell_type": "code",
      "metadata": {
        "id": "z3oPkYbZmxcD",
        "colab_type": "code",
        "colab": {}
      },
      "source": [
        "from fastai.vision.learner import load_learner\n",
        "from fastai.vision.models import squeezenet1_0\n",
        "from fastai.vision.image import open_image"
      ],
      "execution_count": 18,
      "outputs": []
    },
    {
      "cell_type": "code",
      "metadata": {
        "id": "_1tC-HCneB3d",
        "colab_type": "code",
        "colab": {}
      },
      "source": [
        "from google.colab import files\n",
        "from PIL import Image"
      ],
      "execution_count": 19,
      "outputs": []
    },
    {
      "cell_type": "code",
      "metadata": {
        "id": "AZvPqFAgqt0g",
        "colab_type": "code",
        "colab": {}
      },
      "source": [
        "# img should be the file uploaded by the user\n",
        "\n",
        "img = open_image('setting_template_main.jpg')"
      ],
      "execution_count": 20,
      "outputs": []
    },
    {
      "cell_type": "code",
      "metadata": {
        "id": "qumjFbxkqNVo",
        "colab_type": "code",
        "colab": {}
      },
      "source": [
        "learner = load_learner('','squeezenet_model')\n",
        "#pred = learner.predict(img)"
      ],
      "execution_count": 21,
      "outputs": []
    },
    {
      "cell_type": "code",
      "metadata": {
        "id": "s0vSBPSzgO1I",
        "colab_type": "code",
        "colab": {
          "base_uri": "https://localhost:8080/",
          "height": 72
        },
        "outputId": "b5ad01fe-4279-4838-eaab-46305adb08bb"
      },
      "source": [
        "pred = learner.predict(img)"
      ],
      "execution_count": 22,
      "outputs": [
        {
          "output_type": "stream",
          "text": [
            "/usr/local/lib/python3.6/dist-packages/torch/nn/functional.py:2854: UserWarning: The default behavior for interpolate/upsample with float scale_factor will change in 1.6.0 to align with other frameworks/libraries, and use scale_factor directly, instead of relying on the computed output size. If you wish to keep the old behavior, please set recompute_scale_factor=True. See the documentation of nn.Upsample for details. \n",
            "  warnings.warn(\"The default behavior for interpolate/upsample with float scale_factor will change \"\n"
          ],
          "name": "stderr"
        }
      ]
    },
    {
      "cell_type": "code",
      "metadata": {
        "id": "0xc532bTWW4E",
        "colab_type": "code",
        "colab": {
          "base_uri": "https://localhost:8080/",
          "height": 35
        },
        "outputId": "d4be5ffb-5851-4283-97bc-0dc4d73e1d07"
      },
      "source": [
        "print(pred[0])"
      ],
      "execution_count": 41,
      "outputs": [
        {
          "output_type": "stream",
          "text": [
            "ring\n"
          ],
          "name": "stdout"
        }
      ]
    },
    {
      "cell_type": "code",
      "metadata": {
        "id": "JsvjM8i7qxGl",
        "colab_type": "code",
        "colab": {}
      },
      "source": [
        "# prediction needs to be exported and displayed as html\n",
        "import os\n",
        "from flask import Flask, redirect, url_for, request, render_template\n",
        "from skimage import io\n",
        "import skimage.transform as st"
      ],
      "execution_count": 43,
      "outputs": []
    },
    {
      "cell_type": "code",
      "metadata": {
        "id": "BK12Y2au92DH",
        "colab_type": "code",
        "colab": {}
      },
      "source": [
        "\n",
        "app = Flask(__name__)\n",
        "\n",
        "@app.route('/')\n",
        "def entry_page():\n",
        "    #Jinja template of the webpage\n",
        "    return render_template('index.html')\n",
        "\n",
        "@app.route('/predict_object/', methods=['GET', 'POST'])\n",
        "def render_message():\n",
        "    try:\n",
        "        #Get image URL as input\n",
        "        image_url = request.form['image_url']\n",
        "        image = io.imread(image_url)\n",
        "        \n",
        "        #Apply same preprocessing used while training CNN model\n",
        "        image_small = st.resize(image, (224,224,3))\n",
        "        \n",
        "        #Call classify function to predict the image class using the loaded CNN model\n",
        "        pred = learner.predict(image_small)\n",
        "        print(pred[0])\n",
        "        \n",
        "        #Store model prediction results to pass to the web page\n",
        "        message = \"Model prediction: {}\".format(pred[0])\n",
        "        print('Python module executed successfully')\n",
        "        \n",
        "    except Exception as e:\n",
        "        #Store error to pass to the web page\n",
        "        message = \"Error encountered. Try another image. ErrorClass: {}, Argument: {} and Traceback details are: {}\".format(e.__class__,e.args,e.__doc__)\n",
        "        \n",
        "    #Return the model results to the web page\n",
        "    return render_template('index.html',\n",
        "                            message=message,\n",
        "                            image_url=image_url)\n",
        "    \n",
        "app.run(debug=True)"
      ],
      "execution_count": null,
      "outputs": []
    },
    {
      "cell_type": "code",
      "metadata": {
        "id": "YiLAyNOz_gGq",
        "colab_type": "code",
        "colab": {
          "base_uri": "https://localhost:8080/",
          "height": 35
        },
        "outputId": "e1c090aa-ff56-4bf9-f41c-47b623aafdc2"
      },
      "source": [
        "import skimage\n",
        "skimage.__version__"
      ],
      "execution_count": 46,
      "outputs": [
        {
          "output_type": "execute_result",
          "data": {
            "application/vnd.google.colaboratory.intrinsic": {
              "type": "string"
            },
            "text/plain": [
              "'0.16.2'"
            ]
          },
          "metadata": {
            "tags": []
          },
          "execution_count": 46
        }
      ]
    },
    {
      "cell_type": "code",
      "metadata": {
        "id": "k9TItjXQXGt7",
        "colab_type": "code",
        "colab": {}
      },
      "source": [
        ""
      ],
      "execution_count": null,
      "outputs": []
    }
  ]
}